{
 "cells": [
  {
   "attachments": {},
   "cell_type": "markdown",
   "metadata": {},
   "source": [
    "# Import libraries"
   ]
  },
  {
   "cell_type": "code",
   "execution_count": 54,
   "metadata": {},
   "outputs": [],
   "source": [
    "import pandas as pd\n",
    "import numpy as np\n",
    "import tensorly as tl\n",
    "import matplotlib.pyplot as plt"
   ]
  },
  {
   "attachments": {},
   "cell_type": "markdown",
   "metadata": {},
   "source": [
    "# Preprocess data"
   ]
  },
  {
   "cell_type": "code",
   "execution_count": 89,
   "metadata": {},
   "outputs": [],
   "source": [
    "def preprocess(data):\n",
    "    # Reorder samples\n",
    "    reorder_samples = (list(data.index[141:142]) +\n",
    "                       list(data.index[:106]) +\n",
    "                       list(data.index[142:145]) +\n",
    "                       list(data.index[106:141]) +\n",
    "                       list(data.index[145:147]))\n",
    "\n",
    "    data = data.reindex(reorder_samples)\n",
    "\n",
    "    # Preprocessing: convert all values to floats\n",
    "    data = data.replace(\"#N/A\", np.nan)\n",
    "    data = data.applymap(lambda x: float(x.replace(',', '.')) if isinstance(x, str) else x)\n",
    "\n",
    "    # Replace NA values with column mean\n",
    "    data = data.fillna(data.mean())\n",
    "\n",
    "    # Scale the data\n",
    "    data = (data - data.mean()) / data.std()\n",
    "\n",
    "    # Extend the dimension\n",
    "    data = np.expand_dims(data.to_numpy(), axis=2)\n",
    "    return data"
   ]
  },
  {
   "cell_type": "code",
   "execution_count": 90,
   "metadata": {},
   "outputs": [],
   "source": [
    "# Load the data\n",
    "art = pd.read_csv(\"../data/art.csv\", sep=\";\", index_col=0)\n",
    "port = pd.read_csv(\"../data/port.csv\", sep=\";\", index_col=0)\n",
    "vein = pd.read_csv(\"../data/vein.csv\", sep=\";\", index_col=0)\n",
    "tard = pd.read_csv(\"../data/tard.csv\", sep=\";\", index_col=0)\n",
    "labels = pd.read_csv(\"../data/label.csv\", sep=\";\", index_col=0)"
   ]
  },
  {
   "cell_type": "code",
   "execution_count": 91,
   "metadata": {},
   "outputs": [],
   "source": [
    "# Preprocess the data\n",
    "art = preprocess(art)\n",
    "port = preprocess(port)\n",
    "vein = preprocess(vein)\n",
    "tard = preprocess(tard)"
   ]
  },
  {
   "cell_type": "code",
   "execution_count": 92,
   "metadata": {},
   "outputs": [],
   "source": [
    "# Create one matrix\n",
    "matrice_3D = np.concatenate((art, port, vein, tard), axis=2)"
   ]
  },
  {
   "cell_type": "code",
   "execution_count": 5,
   "metadata": {},
   "outputs": [],
   "source": [
    "from sklearn.preprocessing import LabelEncoder\n",
    "\n",
    "le = LabelEncoder()\n",
    "\n",
    "# Convert labels to categories\n",
    "Y = le.fit_transform(labels.to_numpy().ravel())"
   ]
  },
  {
   "attachments": {},
   "cell_type": "markdown",
   "metadata": {},
   "source": [
    "# PARAFAC"
   ]
  },
  {
   "cell_type": "code",
   "execution_count": 107,
   "metadata": {},
   "outputs": [],
   "source": [
    "from sklearn.metrics import accuracy_score\n",
    "from sklearn.metrics import f1_score\n",
    "from tensorly.decomposition import parafac\n",
    "from sklearn.cross_decomposition import PLSRegression\n",
    "\n",
    "def predict_with_rank(matrice_3D, Y, rank):\n",
    "\n",
    "    # CP Decomposition\n",
    "    weights, factors = parafac(matrice_3D, rank=rank)\n",
    "\n",
    "    # PLS Regression\n",
    "    pls = PLSRegression(n_components=rank)\n",
    "\n",
    "    # Fit model\n",
    "    pls.fit(factors[0], Y)\n",
    "\n",
    "    # Prediction\n",
    "    Y_pred = pls.predict(factors[0])\n",
    "    \n",
    "    return Y_pred\n",
    "\n",
    "\n",
    "def to_categories(y, thresholds):\n",
    "\n",
    "    categories = np.zeros_like(y)\n",
    "\n",
    "    for i, threshold in enumerate(thresholds):\n",
    "        categories[y > threshold] = i + 1\n",
    "\n",
    "    return categories\n",
    "\n",
    "def accuracy_for_thresholds(y_true, y_pred, thresholds):\n",
    "\n",
    "    y_pred_categories = to_categories(y_pred, thresholds)\n",
    "    \n",
    "    return (accuracy_score(y_true, y_pred_categories), f1_score(y_true, y_pred_categories, average='weighted'))\n",
    "\n"
   ]
  },
  {
   "cell_type": "code",
   "execution_count": 108,
   "metadata": {},
   "outputs": [],
   "source": [
    "def best_accuracy_for_rank(data, labels, rank):\n",
    "\n",
    "    Y_pred = predict_with_rank(data, labels, rank)\n",
    "\n",
    "    # Plages de seuils à tester\n",
    "    threshold1_range = np.linspace(0.3, 0.7, 40)\n",
    "    threshold2_range = np.linspace(1.3, 1.7, 40)\n",
    "\n",
    "    best_thresholds_acc = None\n",
    "    best_thresholds_F1 = None\n",
    "    best_accuracy = -1\n",
    "    best_F1 = -1\n",
    "\n",
    "    for t1 in threshold1_range:\n",
    "        for t2 in threshold2_range:\n",
    "            \n",
    "            current_thresholds = [round(t1, 3), round(t2, 3)]\n",
    "            current_accuracy = accuracy_for_thresholds(labels, Y_pred, current_thresholds)[0]\n",
    "            current_F1 = accuracy_for_thresholds(labels, Y_pred, current_thresholds)[1]\n",
    "\n",
    "            if current_accuracy > best_accuracy:\n",
    "                best_accuracy = round(current_accuracy, 3)\n",
    "                best_thresholds_acc = current_thresholds\n",
    "\n",
    "            if current_F1 > best_F1:\n",
    "                best_F1 = round(current_F1, 3)\n",
    "                best_thresholds_F1 = current_thresholds\n",
    "\n",
    "    return [(best_thresholds_acc, best_accuracy), (best_thresholds_F1, best_F1)]\n"
   ]
  },
  {
   "cell_type": "code",
   "execution_count": 110,
   "metadata": {},
   "outputs": [],
   "source": [
    "list_rank = [10, 30, 50, 70]\n",
    "best_accuracies = []\n",
    "best_F1 = []\n",
    "\n",
    "for rank in list_rank:\n",
    "    \n",
    "    results = best_accuracy_for_rank(matrice_3D, Y, rank)   \n",
    "\n",
    "    best_accuracies.append(results[0][1])\n",
    "    best_F1.append(results[1][1])"
   ]
  },
  {
   "cell_type": "code",
   "execution_count": 113,
   "metadata": {},
   "outputs": [
    {
     "data": {
      "image/png": "[encoded data removed]",
      "text/plain": [
       "<Figure size 640x480 with 1 Axes>"
      ]
     },
     "metadata": {},
     "output_type": "display_data"
    }
   ],
   "source": [
    "plt.plot(list_rank, best_accuracies, label='Accuracy')\n",
    "plt.plot(list_rank, best_F1, label='F1-score')\n",
    "plt.xlabel(\"Rank\")\n",
    "plt.ylabel(\"Best Accuracy and F1-score\")\n",
    "plt.title(\"Accuracy and F1-score vs Rank\")\n",
    "plt.grid()\n",
    "plt.legend()\n",
    "plt.show()"
   ]
  },
  {
   "attachments": {},
   "cell_type": "markdown",
   "metadata": {},
   "source": [
    "# Classical classifiers"
   ]
  },
  {
   "attachments": {},
   "cell_type": "markdown",
   "metadata": {},
   "source": [
    "## SVM"
   ]
  },
  {
   "cell_type": "code",
   "execution_count": 95,
   "metadata": {},
   "outputs": [],
   "source": [
    "matrice_2D = matrice_3D.reshape(matrice_3D.shape[0], -1)\n",
    "X = matrice_2D"
   ]
  },
  {
   "cell_type": "code",
   "execution_count": 100,
   "metadata": {},
   "outputs": [
    {
     "name": "stdout",
     "output_type": "stream",
     "text": [
      "Accuracy: 0.43\n",
      "F1 Score: 0.48\n"
     ]
    }
   ],
   "source": [
    "from sklearn.model_selection import train_test_split\n",
    "from sklearn.svm import SVC\n",
    "\n",
    "\n",
    "# Split between train and test\n",
    "X_train, X_test, Y_train, Y_test = train_test_split(X, Y, test_size=0.2, random_state=42)\n",
    "\n",
    "svm_model = SVC(kernel='linear', C=1, random_state=42)\n",
    "\n",
    "# Fit model and predict\n",
    "svm_model.fit(X_train, Y_train)\n",
    "Y_pred = svm_model.predict(X_test)\n",
    "\n",
    "# Performances\n",
    "accuracy = round(accuracy_score(Y_test, Y_pred), 2)\n",
    "f1 = round(f1_score(Y_test, Y_pred, average='weighted'), 2)\n",
    "\n",
    "print(f\"Accuracy: {accuracy}\")\n",
    "print(f\"F1 Score: {f1}\")\n"
   ]
  },
  {
   "attachments": {},
   "cell_type": "markdown",
   "metadata": {},
   "source": [
    "## Random Forest"
   ]
  },
  {
   "cell_type": "code",
   "execution_count": 101,
   "metadata": {},
   "outputs": [
    {
     "name": "stdout",
     "output_type": "stream",
     "text": [
      "Accuracy: 0.53\n",
      "F1 Score: 0.49\n"
     ]
    }
   ],
   "source": [
    "from sklearn.ensemble import RandomForestClassifier\n",
    "\n",
    "# Split between train and test\n",
    "X_train, X_test, Y_train, Y_test = train_test_split(X, Y, test_size=0.2, random_state=42)\n",
    "\n",
    "rf_model = RandomForestClassifier(n_estimators=100, random_state=42)\n",
    "\n",
    "# Fit model and predict\n",
    "rf_model.fit(X_train, Y_train)\n",
    "Y_pred = rf_model.predict(X_test)\n",
    "\n",
    "# Performances\n",
    "accuracy = round(accuracy_score(Y_test, Y_pred), 2)\n",
    "f1 = round(f1_score(Y_test, Y_pred, average='weighted'), 2)\n",
    "\n",
    "print(f\"Accuracy: {accuracy}\")\n",
    "print(f\"F1 Score: {f1}\")\n"
   ]
  }
 ],
 "metadata": {
  "kernelspec": {
   "display_name": "Python 3",
   "language": "python",
   "name": "python3"
  },
  "language_info": {
   "codemirror_mode": {
    "name": "ipython",
    "version": 3
   },
   "file_extension": ".py",
   "mimetype": "text/x-python",
   "name": "python",
   "nbconvert_exporter": "python",
   "pygments_lexer": "ipython3",
   "version": "3.8.8"
  },
  "orig_nbformat": 4
 },
 "nbformat": 4,
 "nbformat_minor": 2
}
